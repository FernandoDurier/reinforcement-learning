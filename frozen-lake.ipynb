{
 "cells": [
  {
   "cell_type": "code",
   "execution_count": 1,
   "metadata": {},
   "outputs": [],
   "source": [
    "import numpy as np\n",
    "import gym\n",
    "import random\n",
    "import time\n",
    "\n",
    "\n",
    "import IPython\n",
    "import IPython.display\n",
    "from IPython.display import clear_output"
   ]
  },
  {
   "cell_type": "code",
   "execution_count": 4,
   "metadata": {},
   "outputs": [],
   "source": [
    "env = gym.make(\"FrozenLake-v0\")"
   ]
  },
  {
   "cell_type": "code",
   "execution_count": 10,
   "metadata": {
    "scrolled": true
   },
   "outputs": [
    {
     "name": "stdout",
     "output_type": "stream",
     "text": [
      "[[0. 0. 0. 0.]\n",
      " [0. 0. 0. 0.]\n",
      " [0. 0. 0. 0.]\n",
      " [0. 0. 0. 0.]\n",
      " [0. 0. 0. 0.]\n",
      " [0. 0. 0. 0.]\n",
      " [0. 0. 0. 0.]\n",
      " [0. 0. 0. 0.]\n",
      " [0. 0. 0. 0.]\n",
      " [0. 0. 0. 0.]\n",
      " [0. 0. 0. 0.]\n",
      " [0. 0. 0. 0.]\n",
      " [0. 0. 0. 0.]\n",
      " [0. 0. 0. 0.]\n",
      " [0. 0. 0. 0.]\n",
      " [0. 0. 0. 0.]]\n"
     ]
    }
   ],
   "source": [
    "action_space_size = env.action_space.n\n",
    "state_space_size = env.observation_space.n\n",
    "\n",
    "q_table = np.zeros(( state_space_size, action_space_size))\n",
    "\n",
    "print(q_table)"
   ]
  },
  {
   "cell_type": "code",
   "execution_count": 12,
   "metadata": {},
   "outputs": [],
   "source": [
    "# Game's Ruleset\n",
    "# State Description     Reward\n",
    "# S     Start             0\n",
    "# F     Frozen Surface    0\n",
    "# H     Hole - GameOver   0\n",
    "# G     Goal - GameOver   1"
   ]
  },
  {
   "cell_type": "code",
   "execution_count": 33,
   "metadata": {},
   "outputs": [],
   "source": [
    "num_episodes = 10000\n",
    "max_steps_per_episode = 100\n",
    "\n",
    "learning_rate = 0.01\n",
    "discount_rate = 0.99\n",
    "\n",
    "exploration_rate = 1\n",
    "max_exploration_rate = 1\n",
    "min_exploration_rate = 0.01\n",
    "exploration_decay_rate = 0.001\n"
   ]
  },
  {
   "cell_type": "code",
   "execution_count": 34,
   "metadata": {},
   "outputs": [
    {
     "name": "stdout",
     "output_type": "stream",
     "text": [
      "AVG Reward per 1000s Eps (~Winning Rate)\n",
      "1000 : 0.06300000000000004\n",
      "2000 : 0.21300000000000016\n",
      "3000 : 0.4200000000000003\n",
      "4000 : 0.6130000000000004\n",
      "5000 : 0.6570000000000005\n",
      "6000 : 0.6930000000000005\n",
      "7000 : 0.6590000000000005\n",
      "8000 : 0.6730000000000005\n",
      "9000 : 0.7110000000000005\n",
      "10000 : 0.6660000000000005\n",
      "Q-Table\n",
      "[[0.5357752  0.52250493 0.5239079  0.52218561]\n",
      " [0.32965524 0.35389848 0.3147426  0.50010783]\n",
      " [0.43062433 0.43036291 0.42452065 0.46778721]\n",
      " [0.30090278 0.34029703 0.30133387 0.45450189]\n",
      " [0.55105784 0.38803851 0.36786375 0.36740855]\n",
      " [0.         0.         0.         0.        ]\n",
      " [0.3064856  0.21187465 0.30578149 0.16162041]\n",
      " [0.         0.         0.         0.        ]\n",
      " [0.41572713 0.39799189 0.38257207 0.57885499]\n",
      " [0.46686112 0.61847357 0.46790598 0.42872343]\n",
      " [0.5757802  0.50032777 0.38518384 0.32920903]\n",
      " [0.         0.         0.         0.        ]\n",
      " [0.         0.         0.         0.        ]\n",
      " [0.4653914  0.5715849  0.73263064 0.52783442]\n",
      " [0.74193296 0.86765785 0.80535332 0.80395143]\n",
      " [0.         0.         0.         0.        ]]\n"
     ]
    }
   ],
   "source": [
    "rewards_all_episodes = []\n",
    "\n",
    "#Q-Learning Algorithm\n",
    "for episode in range(num_episodes):\n",
    "    state = env.reset() #start a new ep\n",
    "    \n",
    "    done = False #flag for end of an ep\n",
    "    rewards_current_episode = 0\n",
    "    \n",
    "    for step in range(max_steps_per_episode):\n",
    "        \n",
    "        #Exploration-exploitation trade-off\n",
    "        exploration_rate_threshold = random.uniform(0, 1) #limit to decide if explore or exploit\n",
    "        \n",
    "        if exploration_rate_threshold > exploration_rate:\n",
    "            action = np.argmax(q_table[state,:]) #exploit - choose the most valuable action greedly\n",
    "        else:\n",
    "            action = env.action_space.sample() #explore - choose randomly another action\n",
    "        \n",
    "        new_state, reward, done, info = env.step(action) #update the env and get the feedbacks\n",
    "        \n",
    "        #Update Q-Table for Q(s,a) with Bellman Equation's Output\n",
    "        q_table[state, action] = q_table[state, action] * (1 - learning_rate) + learning_rate * (reward + discount_rate * np.max(q_table[new_state, :]))\n",
    "        \n",
    "        state = new_state #update the agent to next start upon the aforechosen action\n",
    "        rewards_current_episode += reward\n",
    "        \n",
    "        if done == True: #if episode finished\n",
    "            break\n",
    "            \n",
    "    # Exploration Rate Decay\n",
    "    exploration_rate = min_exploration_rate + (max_exploration_rate - min_exploration_rate) * np.exp(-exploration_decay_rate*episode)\n",
    "    \n",
    "    #Building the policy\n",
    "    rewards_all_episodes.append(rewards_current_episode)\n",
    "\n",
    "# Calculate and print the avg reward per thousand eps\n",
    "rewards_per_thousand_episodes = np.split(\n",
    "    np.array(rewards_all_episodes),num_episodes/1000)\n",
    "\n",
    "count = 1000\n",
    "\n",
    "print(\"AVG Reward per 1000s Eps (~Winning Rate)\")\n",
    "for r in rewards_per_thousand_episodes:\n",
    "    print(count, \":\", str(sum(r/1000)))\n",
    "    count += 1000\n",
    "    \n",
    "# Print Updated Q-Table\n",
    "print(\"Q-Table\")\n",
    "print(q_table)"
   ]
  },
  {
   "cell_type": "code",
   "execution_count": 36,
   "metadata": {},
   "outputs": [
    {
     "name": "stdout",
     "output_type": "stream",
     "text": [
      "The end\n"
     ]
    }
   ],
   "source": [
    "for episode in range(3):\n",
    "    state = env.reset()\n",
    "    done = False \n",
    "    print(\"-----------------Episode(\",episode,\")-------------------\")\n",
    "    time.sleep(1)\n",
    "    \n",
    "    for step in range(max_steps_per_episode):\n",
    "        clear_output(wait=True)\n",
    "        env.render()\n",
    "        time.sleep(0.3)\n",
    "        \n",
    "        action = np.argmax(q_table[state,:])\n",
    "        new_state, reward, done, info = env.step(action)\n",
    "        \n",
    "        if done:\n",
    "            IPython.display.clear_output(wait=True)\n",
    "            env.render()\n",
    "            if reward == 1:\n",
    "                print(\"******You reached the Goal!!!*******\")\n",
    "                time.sleep(3)\n",
    "            else:\n",
    "                print(\"******You fell through the hole!!!*******\")\n",
    "                time.sleep(3)\n",
    "            IPython.display.clear_output(wait=True)\n",
    "            break\n",
    "            \n",
    "        state = new_state\n",
    "IPython.display.clear_output(wait=True)\n",
    "print(\"The end\")\n",
    "env.close()\n",
    "            \n",
    "            "
   ]
  },
  {
   "cell_type": "code",
   "execution_count": null,
   "metadata": {},
   "outputs": [],
   "source": []
  },
  {
   "cell_type": "code",
   "execution_count": 35,
   "metadata": {},
   "outputs": [],
   "source": []
  },
  {
   "cell_type": "code",
   "execution_count": null,
   "metadata": {},
   "outputs": [],
   "source": []
  },
  {
   "cell_type": "code",
   "execution_count": null,
   "metadata": {},
   "outputs": [],
   "source": []
  }
 ],
 "metadata": {
  "kernelspec": {
   "display_name": "Python 3",
   "language": "python",
   "name": "python3"
  },
  "language_info": {
   "codemirror_mode": {
    "name": "ipython",
    "version": 3
   },
   "file_extension": ".py",
   "mimetype": "text/x-python",
   "name": "python",
   "nbconvert_exporter": "python",
   "pygments_lexer": "ipython3",
   "version": "3.6.7"
  }
 },
 "nbformat": 4,
 "nbformat_minor": 2
}
